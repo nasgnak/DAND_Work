{
 "cells": [
  {
   "cell_type": "code",
   "execution_count": 1,
   "metadata": {
    "collapsed": false
   },
   "outputs": [],
   "source": [
    "import numpy as np\n",
    "import unicodecsv\n",
    "import pandas as pd\n",
    "import seaborn as sns\n",
    "import matplotlib.pyplot as plt"
   ]
  },
  {
   "cell_type": "markdown",
   "metadata": {},
   "source": [
    "# Baseball Pitchers and Salaries: How much is a pitcher worth?\n",
    "\n",
    "Baseball is often considered the *sport for data nerds*. During a TV broadcast, there are so many mentions of different\n",
    "statistics for just one player, it seems that they can talk about that individual for the entire game. However, teams \n",
    "use these statistics to determine the best mix of talent versus money spent.\n",
    "\n",
    "One important position of a baseball team is the pitcher. A dominant pitcher can hide many flaws on a team, including\n",
    "poor fielding and lackluster hitting. But, how does a team determine how much to pay a pitcher? What key statistics lead to a bigger salary for pitchers? Let us investigate."
   ]
  },
  {
   "cell_type": "code",
   "execution_count": 2,
   "metadata": {
    "collapsed": false
   },
   "outputs": [],
   "source": [
    "#def read_csv(filename):\n",
    " #   with open (filename, 'rb') as f:\n",
    "#     reader = unicodecsv.DictReader(f)\n",
    "   #     return list(reader)\n",
    "\n",
    "pitchers = pd.read_csv('Pitching.csv')\n",
    "salaries = pd.read_csv('Salaries.csv')\n",
    "\n",
    "PS = pitchers.merge(salaries, on=['playerID', 'lgID', 'teamID'], how='inner')"
   ]
  },
  {
   "cell_type": "markdown",
   "metadata": {},
   "source": [
    "Before we begin, we must analyze the data set that we are using, to check for any missing information or outliers."
   ]
  },
  {
   "cell_type": "code",
   "execution_count": 3,
   "metadata": {
    "collapsed": false
   },
   "outputs": [
    {
     "name": "stderr",
     "output_type": "stream",
     "text": [
      "//anaconda/lib/python3.5/site-packages/numpy/lib/function_base.py:3834: RuntimeWarning: Invalid value encountered in percentile\n",
      "  RuntimeWarning)\n"
     ]
    },
    {
     "data": {
      "text/html": [
       "<div>\n",
       "<table border=\"1\" class=\"dataframe\">\n",
       "  <thead>\n",
       "    <tr style=\"text-align: right;\">\n",
       "      <th></th>\n",
       "      <th>yearID_x</th>\n",
       "      <th>stint</th>\n",
       "      <th>W</th>\n",
       "      <th>L</th>\n",
       "      <th>G</th>\n",
       "      <th>GS</th>\n",
       "      <th>CG</th>\n",
       "      <th>SHO</th>\n",
       "      <th>SV</th>\n",
       "      <th>IPouts</th>\n",
       "      <th>...</th>\n",
       "      <th>HBP</th>\n",
       "      <th>BK</th>\n",
       "      <th>BFP</th>\n",
       "      <th>GF</th>\n",
       "      <th>R</th>\n",
       "      <th>SH</th>\n",
       "      <th>SF</th>\n",
       "      <th>GIDP</th>\n",
       "      <th>yearID_y</th>\n",
       "      <th>salary</th>\n",
       "    </tr>\n",
       "  </thead>\n",
       "  <tbody>\n",
       "    <tr>\n",
       "      <th>count</th>\n",
       "      <td>51682.000000</td>\n",
       "      <td>51682.000000</td>\n",
       "      <td>51682.000000</td>\n",
       "      <td>51682.000000</td>\n",
       "      <td>51682.000000</td>\n",
       "      <td>51682.000000</td>\n",
       "      <td>51682.000000</td>\n",
       "      <td>51682.000000</td>\n",
       "      <td>51682.000000</td>\n",
       "      <td>51682.000000</td>\n",
       "      <td>...</td>\n",
       "      <td>51682.000000</td>\n",
       "      <td>51682.000000</td>\n",
       "      <td>51682.000000</td>\n",
       "      <td>51682.000000</td>\n",
       "      <td>51682.000000</td>\n",
       "      <td>26295.000000</td>\n",
       "      <td>26295.000000</td>\n",
       "      <td>1278.000000</td>\n",
       "      <td>51682.000000</td>\n",
       "      <td>5.168200e+04</td>\n",
       "    </tr>\n",
       "    <tr>\n",
       "      <th>mean</th>\n",
       "      <td>1999.568612</td>\n",
       "      <td>1.032023</td>\n",
       "      <td>6.091037</td>\n",
       "      <td>5.404241</td>\n",
       "      <td>33.295054</td>\n",
       "      <td>12.203611</td>\n",
       "      <td>1.064355</td>\n",
       "      <td>0.331295</td>\n",
       "      <td>3.372896</td>\n",
       "      <td>302.458864</td>\n",
       "      <td>...</td>\n",
       "      <td>3.102279</td>\n",
       "      <td>0.541214</td>\n",
       "      <td>428.125537</td>\n",
       "      <td>9.115398</td>\n",
       "      <td>48.009249</td>\n",
       "      <td>3.272866</td>\n",
       "      <td>2.652824</td>\n",
       "      <td>7.215962</td>\n",
       "      <td>2000.037711</td>\n",
       "      <td>2.229548e+06</td>\n",
       "    </tr>\n",
       "    <tr>\n",
       "      <th>std</th>\n",
       "      <td>9.027947</td>\n",
       "      <td>0.182749</td>\n",
       "      <td>5.392403</td>\n",
       "      <td>4.171821</td>\n",
       "      <td>20.048611</td>\n",
       "      <td>13.443994</td>\n",
       "      <td>2.370959</td>\n",
       "      <td>0.826338</td>\n",
       "      <td>9.194315</td>\n",
       "      <td>219.346600</td>\n",
       "      <td>...</td>\n",
       "      <td>3.110359</td>\n",
       "      <td>1.111555</td>\n",
       "      <td>305.004295</td>\n",
       "      <td>15.097995</td>\n",
       "      <td>34.921716</td>\n",
       "      <td>3.229308</td>\n",
       "      <td>2.407517</td>\n",
       "      <td>6.303744</td>\n",
       "      <td>8.676806</td>\n",
       "      <td>3.464342e+06</td>\n",
       "    </tr>\n",
       "    <tr>\n",
       "      <th>min</th>\n",
       "      <td>1966.000000</td>\n",
       "      <td>1.000000</td>\n",
       "      <td>0.000000</td>\n",
       "      <td>0.000000</td>\n",
       "      <td>1.000000</td>\n",
       "      <td>0.000000</td>\n",
       "      <td>0.000000</td>\n",
       "      <td>0.000000</td>\n",
       "      <td>0.000000</td>\n",
       "      <td>0.000000</td>\n",
       "      <td>...</td>\n",
       "      <td>0.000000</td>\n",
       "      <td>0.000000</td>\n",
       "      <td>1.000000</td>\n",
       "      <td>0.000000</td>\n",
       "      <td>0.000000</td>\n",
       "      <td>0.000000</td>\n",
       "      <td>0.000000</td>\n",
       "      <td>0.000000</td>\n",
       "      <td>1985.000000</td>\n",
       "      <td>0.000000e+00</td>\n",
       "    </tr>\n",
       "    <tr>\n",
       "      <th>25%</th>\n",
       "      <td>1992.000000</td>\n",
       "      <td>1.000000</td>\n",
       "      <td>2.000000</td>\n",
       "      <td>2.000000</td>\n",
       "      <td>19.000000</td>\n",
       "      <td>0.000000</td>\n",
       "      <td>0.000000</td>\n",
       "      <td>0.000000</td>\n",
       "      <td>0.000000</td>\n",
       "      <td>129.000000</td>\n",
       "      <td>...</td>\n",
       "      <td>1.000000</td>\n",
       "      <td>0.000000</td>\n",
       "      <td>188.000000</td>\n",
       "      <td>0.000000</td>\n",
       "      <td>19.000000</td>\n",
       "      <td>NaN</td>\n",
       "      <td>NaN</td>\n",
       "      <td>NaN</td>\n",
       "      <td>1993.000000</td>\n",
       "      <td>3.065000e+05</td>\n",
       "    </tr>\n",
       "    <tr>\n",
       "      <th>50%</th>\n",
       "      <td>2000.000000</td>\n",
       "      <td>1.000000</td>\n",
       "      <td>5.000000</td>\n",
       "      <td>5.000000</td>\n",
       "      <td>32.000000</td>\n",
       "      <td>5.000000</td>\n",
       "      <td>0.000000</td>\n",
       "      <td>0.000000</td>\n",
       "      <td>0.000000</td>\n",
       "      <td>230.000000</td>\n",
       "      <td>...</td>\n",
       "      <td>2.000000</td>\n",
       "      <td>0.000000</td>\n",
       "      <td>325.000000</td>\n",
       "      <td>2.000000</td>\n",
       "      <td>36.000000</td>\n",
       "      <td>NaN</td>\n",
       "      <td>NaN</td>\n",
       "      <td>NaN</td>\n",
       "      <td>2000.000000</td>\n",
       "      <td>6.850000e+05</td>\n",
       "    </tr>\n",
       "    <tr>\n",
       "      <th>75%</th>\n",
       "      <td>2007.000000</td>\n",
       "      <td>1.000000</td>\n",
       "      <td>10.000000</td>\n",
       "      <td>8.000000</td>\n",
       "      <td>45.000000</td>\n",
       "      <td>26.000000</td>\n",
       "      <td>1.000000</td>\n",
       "      <td>0.000000</td>\n",
       "      <td>1.000000</td>\n",
       "      <td>499.000000</td>\n",
       "      <td>...</td>\n",
       "      <td>4.000000</td>\n",
       "      <td>1.000000</td>\n",
       "      <td>710.000000</td>\n",
       "      <td>12.000000</td>\n",
       "      <td>78.000000</td>\n",
       "      <td>NaN</td>\n",
       "      <td>NaN</td>\n",
       "      <td>NaN</td>\n",
       "      <td>2008.000000</td>\n",
       "      <td>2.750000e+06</td>\n",
       "    </tr>\n",
       "    <tr>\n",
       "      <th>max</th>\n",
       "      <td>2015.000000</td>\n",
       "      <td>4.000000</td>\n",
       "      <td>27.000000</td>\n",
       "      <td>21.000000</td>\n",
       "      <td>94.000000</td>\n",
       "      <td>41.000000</td>\n",
       "      <td>30.000000</td>\n",
       "      <td>10.000000</td>\n",
       "      <td>62.000000</td>\n",
       "      <td>1039.000000</td>\n",
       "      <td>...</td>\n",
       "      <td>21.000000</td>\n",
       "      <td>16.000000</td>\n",
       "      <td>1351.000000</td>\n",
       "      <td>79.000000</td>\n",
       "      <td>160.000000</td>\n",
       "      <td>21.000000</td>\n",
       "      <td>14.000000</td>\n",
       "      <td>36.000000</td>\n",
       "      <td>2015.000000</td>\n",
       "      <td>3.257100e+07</td>\n",
       "    </tr>\n",
       "  </tbody>\n",
       "</table>\n",
       "<p>8 rows × 29 columns</p>\n",
       "</div>"
      ],
      "text/plain": [
       "           yearID_x         stint             W             L             G  \\\n",
       "count  51682.000000  51682.000000  51682.000000  51682.000000  51682.000000   \n",
       "mean    1999.568612      1.032023      6.091037      5.404241     33.295054   \n",
       "std        9.027947      0.182749      5.392403      4.171821     20.048611   \n",
       "min     1966.000000      1.000000      0.000000      0.000000      1.000000   \n",
       "25%     1992.000000      1.000000      2.000000      2.000000     19.000000   \n",
       "50%     2000.000000      1.000000      5.000000      5.000000     32.000000   \n",
       "75%     2007.000000      1.000000     10.000000      8.000000     45.000000   \n",
       "max     2015.000000      4.000000     27.000000     21.000000     94.000000   \n",
       "\n",
       "                 GS            CG           SHO            SV        IPouts  \\\n",
       "count  51682.000000  51682.000000  51682.000000  51682.000000  51682.000000   \n",
       "mean      12.203611      1.064355      0.331295      3.372896    302.458864   \n",
       "std       13.443994      2.370959      0.826338      9.194315    219.346600   \n",
       "min        0.000000      0.000000      0.000000      0.000000      0.000000   \n",
       "25%        0.000000      0.000000      0.000000      0.000000    129.000000   \n",
       "50%        5.000000      0.000000      0.000000      0.000000    230.000000   \n",
       "75%       26.000000      1.000000      0.000000      1.000000    499.000000   \n",
       "max       41.000000     30.000000     10.000000     62.000000   1039.000000   \n",
       "\n",
       "           ...                HBP            BK           BFP            GF  \\\n",
       "count      ...       51682.000000  51682.000000  51682.000000  51682.000000   \n",
       "mean       ...           3.102279      0.541214    428.125537      9.115398   \n",
       "std        ...           3.110359      1.111555    305.004295     15.097995   \n",
       "min        ...           0.000000      0.000000      1.000000      0.000000   \n",
       "25%        ...           1.000000      0.000000    188.000000      0.000000   \n",
       "50%        ...           2.000000      0.000000    325.000000      2.000000   \n",
       "75%        ...           4.000000      1.000000    710.000000     12.000000   \n",
       "max        ...          21.000000     16.000000   1351.000000     79.000000   \n",
       "\n",
       "                  R            SH            SF         GIDP      yearID_y  \\\n",
       "count  51682.000000  26295.000000  26295.000000  1278.000000  51682.000000   \n",
       "mean      48.009249      3.272866      2.652824     7.215962   2000.037711   \n",
       "std       34.921716      3.229308      2.407517     6.303744      8.676806   \n",
       "min        0.000000      0.000000      0.000000     0.000000   1985.000000   \n",
       "25%       19.000000           NaN           NaN          NaN   1993.000000   \n",
       "50%       36.000000           NaN           NaN          NaN   2000.000000   \n",
       "75%       78.000000           NaN           NaN          NaN   2008.000000   \n",
       "max      160.000000     21.000000     14.000000    36.000000   2015.000000   \n",
       "\n",
       "             salary  \n",
       "count  5.168200e+04  \n",
       "mean   2.229548e+06  \n",
       "std    3.464342e+06  \n",
       "min    0.000000e+00  \n",
       "25%    3.065000e+05  \n",
       "50%    6.850000e+05  \n",
       "75%    2.750000e+06  \n",
       "max    3.257100e+07  \n",
       "\n",
       "[8 rows x 29 columns]"
      ]
     },
     "execution_count": 3,
     "metadata": {},
     "output_type": "execute_result"
    }
   ],
   "source": [
    "PS.describe()"
   ]
  },
  {
   "cell_type": "markdown",
   "metadata": {},
   "source": [
    "We see that there are certain columns that have less information than others, most notably \"Sacrifices by Opposing Batters\" (SH), \"Sacrifice Flies by Opposing Batters\" (SF), and \"Grounded into Double Plays\" (GIDP). That may be as a result of those statistics not being tracked until a later year, when compared to the other statistics. \n",
    "\n",
    "As my primary focus is not on those statistics, I am okay with not having as many rows. If I were to use those statistics, I would highlight that fact as it would affect my reporting."
   ]
  },
  {
   "cell_type": "markdown",
   "metadata": {},
   "source": [
    "The most common statistic used to measure a pitcher's ability is Earned Run Average, or ERA. This calculates how many runs a pitcher would be responsible for, per nine innings. \n",
    "\n",
    "One of the first questions that comes to mind is: \n",
    "\n",
    "*How does ERA affect wins?*\n",
    "\n",
    "First, some information about the ERA information we have."
   ]
  },
  {
   "cell_type": "code",
   "execution_count": 4,
   "metadata": {
    "collapsed": false
   },
   "outputs": [
    {
     "data": {
      "text/plain": [
       "ERA\n",
       "0.00      639\n",
       "0.38        6\n",
       "0.40        1\n",
       "0.43        1\n",
       "0.44        4\n",
       "0.45        2\n",
       "0.50        1\n",
       "0.51        1\n",
       "0.59        4\n",
       "0.60        4\n",
       "0.61       13\n",
       "0.62        1\n",
       "0.63        1\n",
       "0.65        1\n",
       "0.66        2\n",
       "0.67        6\n",
       "0.68        4\n",
       "0.69        8\n",
       "0.70        1\n",
       "0.71        6\n",
       "0.72        6\n",
       "0.73        5\n",
       "0.74        3\n",
       "0.75        7\n",
       "0.79        3\n",
       "0.82       19\n",
       "0.84        1\n",
       "0.86        2\n",
       "0.87       16\n",
       "0.89        5\n",
       "         ... \n",
       "22.50      13\n",
       "22.85       1\n",
       "23.14       3\n",
       "23.63       8\n",
       "24.00       6\n",
       "24.30       2\n",
       "24.75       1\n",
       "24.92       2\n",
       "25.07       1\n",
       "27.00     104\n",
       "29.70       1\n",
       "30.38       2\n",
       "30.86       2\n",
       "31.50       1\n",
       "32.40       4\n",
       "33.75       7\n",
       "36.00      17\n",
       "37.13       3\n",
       "38.57       3\n",
       "40.50       8\n",
       "42.43       1\n",
       "43.20       2\n",
       "45.00      12\n",
       "49.50       3\n",
       "54.00      15\n",
       "67.50       8\n",
       "81.00       1\n",
       "94.50       4\n",
       "108.00      6\n",
       "135.00      1\n",
       "dtype: int64"
      ]
     },
     "execution_count": 4,
     "metadata": {},
     "output_type": "execute_result"
    }
   ],
   "source": [
    "PS.groupby('ERA').size()"
   ]
  },
  {
   "cell_type": "markdown",
   "metadata": {},
   "source": [
    "As you can see, there are a lot of different values for ERA in the dataset we have, with an overwhelming amount of entries having an ERA of 0.00. Let's get some more information."
   ]
  },
  {
   "cell_type": "code",
   "execution_count": 5,
   "metadata": {
    "collapsed": false
   },
   "outputs": [
    {
     "name": "stderr",
     "output_type": "stream",
     "text": [
      "//anaconda/lib/python3.5/site-packages/numpy/lib/function_base.py:3834: RuntimeWarning: Invalid value encountered in percentile\n",
      "  RuntimeWarning)\n"
     ]
    },
    {
     "data": {
      "text/plain": [
       "count    51662.000000\n",
       "mean         4.387997\n",
       "std          3.262503\n",
       "min          0.000000\n",
       "25%               NaN\n",
       "50%               NaN\n",
       "75%               NaN\n",
       "max        135.000000\n",
       "Name: ERA, dtype: float64"
      ]
     },
     "execution_count": 5,
     "metadata": {},
     "output_type": "execute_result"
    }
   ],
   "source": [
    "PS['ERA'].describe()"
   ]
  },
  {
   "cell_type": "markdown",
   "metadata": {},
   "source": [
    "We can see that the mean ERA is 4.39, with a minimum of 0 and a max of 135.00. With a standard deviation of 3.26, much of the information is not close to the mean."
   ]
  },
  {
   "cell_type": "code",
   "execution_count": 9,
   "metadata": {
    "collapsed": false
   },
   "outputs": [
    {
     "name": "stdout",
     "output_type": "stream",
     "text": [
      "Populating the interactive namespace from numpy and matplotlib\n"
     ]
    },
    {
     "data": {
      "text/plain": [
       "<matplotlib.text.Text at 0x115266dd8>"
      ]
     },
     "execution_count": 9,
     "metadata": {},
     "output_type": "execute_result"
    },
    {
     "data": {
      "image/png": "[encoded data removed]",
      "text/plain": [
       "<matplotlib.figure.Figure at 0x1173e18d0>"
      ]
     },
     "metadata": {},
     "output_type": "display_data"
    }
   ],
   "source": [
    "ERA_averages = pitchers.groupby('W').mean()['ERA']\n",
    "\n",
    "%pylab inline\n",
    "ERA_averages.hist()\n",
    "pylab.title(\"ERA and Wins, 1966 - 2015\")\n",
    "pylab.xlabel(\"ERA\")\n",
    "pylab.ylabel(\"Wins\")"
   ]
  },
  {
   "cell_type": "markdown",
   "metadata": {},
   "source": [
    "The results above show that the pitchers than win the most games in a season have an ERA between 2.00 and 2.50. \n",
    "\n",
    "*However, why do pitchers that have an ERA of less than 2.00 suddenly win less games?*"
   ]
  },
  {
   "cell_type": "code",
   "execution_count": 10,
   "metadata": {
    "collapsed": false
   },
   "outputs": [
    {
     "name": "stdout",
     "output_type": "stream",
     "text": [
      "Populating the interactive namespace from numpy and matplotlib\n"
     ]
    },
    {
     "data": {
      "text/plain": [
       "<matplotlib.text.Text at 0x1042ecb70>"
      ]
     },
     "execution_count": 10,
     "metadata": {},
     "output_type": "execute_result"
    },
    {
     "data": {
      "image/png": "[encoded data removed]",
      "text/plain": [
       "<matplotlib.figure.Figure at 0x1047e5240>"
      ]
     },
     "metadata": {},
     "output_type": "display_data"
    }
   ],
   "source": [
    "BattersFaced = pitchers.groupby('BFP').mean()['ERA']\n",
    "\n",
    "%pylab inline\n",
    "BattersFaced.hist()\n",
    "pylab.title(\"Batters Faced and ERA, 1966 - 2015\")\n",
    "pylab.xlabel(\"ERA\")\n",
    "pylab.ylabel(\"Batters Faced\")"
   ]
  },
  {
   "cell_type": "markdown",
   "metadata": {},
   "source": [
    "When viewing the relationship between batters faced and ERA, we can see that pitchers with an ERA of less than 2 face far less batters. Essentially, they win less games because they are involved in less games.\n",
    "\n",
    "So, lower ERA does generally lead to more wins. Is that enough value for a pitcher to receive a higher salary?\n",
    "\n",
    "### Salary and ERA, 1966 - 2015"
   ]
  },
  {
   "cell_type": "code",
   "execution_count": 11,
   "metadata": {
    "collapsed": false
   },
   "outputs": [],
   "source": [
    "PayDay = PS.groupby(['ERA','salary'], as_index = False).mean()"
   ]
  },
  {
   "cell_type": "code",
   "execution_count": 18,
   "metadata": {
    "collapsed": false
   },
   "outputs": [
    {
     "name": "stdout",
     "output_type": "stream",
     "text": [
      "Populating the interactive namespace from numpy and matplotlib\n"
     ]
    },
    {
     "data": {
      "text/plain": [
       "<matplotlib.text.Text at 0x116a62eb8>"
      ]
     },
     "execution_count": 18,
     "metadata": {},
     "output_type": "execute_result"
    },
    {
     "data": {
      "image/png": "[encoded data removed]",
      "text/plain": [
       "<matplotlib.figure.Figure at 0x11b5cbf28>"
      ]
     },
     "metadata": {},
     "output_type": "display_data"
    }
   ],
   "source": [
    "%pylab inline\n",
    "\n",
    "plt.scatter(PayDay['ERA'], PayDay['salary'])\n",
    "pylab.title(\"Salary and ERA, 1966 - 2015\")\n",
    "pylab.xlabel(\"ERA\")\n",
    "pylab.ylabel(\"Salary\")"
   ]
  },
  {
   "cell_type": "markdown",
   "metadata": {},
   "source": [
    "The graphic above shows that the lower ERA leads to a bigger pay day for pitchers. \n",
    "\n",
    "In conclusion, if a pitcher can consistently generate an ERA between 2.00 and 2.50 during a season, he will be able to give his team the best chance to win games. \n",
    "\n",
    "The dataset provided some challenges, as the date range was from 1966 - 2015. With rapid increase in player salary, the lower salaries from 1966, as an example, definitely influenced the information provided above. Also, some of the outliers also skewed the data. There were some entries missing, but we were fortunate enough where that information was not required for this type of analysis."
   ]
  }
 ],
 "metadata": {
  "anaconda-cloud": {},
  "kernelspec": {
   "display_name": "Python [conda root]",
   "language": "python",
   "name": "conda-root-py"
  },
  "language_info": {
   "codemirror_mode": {
    "name": "ipython",
    "version": 3
   },
   "file_extension": ".py",
   "mimetype": "text/x-python",
   "name": "python",
   "nbconvert_exporter": "python",
   "pygments_lexer": "ipython3",
   "version": "3.5.2"
  }
 },
 "nbformat": 4,
 "nbformat_minor": 1
}
